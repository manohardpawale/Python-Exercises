{
 "cells": [
  {
   "cell_type": "markdown",
   "id": "f9a7b533",
   "metadata": {},
   "source": [
    "# Python Essentials 1\n",
    "### Exercise 01"
   ]
  },
  {
   "cell_type": "code",
   "execution_count": 1,
   "id": "fa6dffd0",
   "metadata": {},
   "outputs": [
    {
     "name": "stdout",
     "output_type": "stream",
     "text": [
      "C:\\Users\\sdsap\\anaconda3\\python.exe\n",
      "3.10.9 | packaged by Anaconda, Inc. | (main, Mar  1 2023, 18:18:15) [MSC v.1916 64 bit (AMD64)]\n",
      "sys.version_info(major=3, minor=10, micro=9, releaselevel='final', serial=0)\n"
     ]
    }
   ],
   "source": [
    "import sys\n",
    "print(sys.executable)\n",
    "print(sys.version)\n",
    "print(sys.version_info)"
   ]
  },
  {
   "cell_type": "code",
   "execution_count": 2,
   "id": "910990ae",
   "metadata": {},
   "outputs": [
    {
     "name": "stdout",
     "output_type": "stream",
     "text": [
      "Python 3.10.9\n"
     ]
    }
   ],
   "source": [
    "!python --version"
   ]
  },
  {
   "cell_type": "markdown",
   "id": "f5c6a2f1",
   "metadata": {},
   "source": [
    "**The \"Hello, World!\" Program**"
   ]
  },
  {
   "cell_type": "code",
   "execution_count": 3,
   "id": "8f8b28fe",
   "metadata": {},
   "outputs": [
    {
     "name": "stdout",
     "output_type": "stream",
     "text": [
      "Hello, World!\n"
     ]
    }
   ],
   "source": [
    "print(\"Hello, World!\")"
   ]
  },
  {
   "cell_type": "markdown",
   "id": "709cdd27",
   "metadata": {},
   "source": [
    "**Lab 1: Print Function**"
   ]
  },
  {
   "cell_type": "code",
   "execution_count": 4,
   "id": "7d9661d1",
   "metadata": {},
   "outputs": [
    {
     "name": "stdout",
     "output_type": "stream",
     "text": [
      "Hello, Python!\n"
     ]
    }
   ],
   "source": [
    "# Use the print() function to print the line Hello, Python! to the screen. Use double quotes around the string.\n",
    "print(\"Hello, Python!\")"
   ]
  },
  {
   "cell_type": "code",
   "execution_count": 5,
   "id": "04070e6d",
   "metadata": {},
   "outputs": [
    {
     "name": "stdout",
     "output_type": "stream",
     "text": [
      "Manohar\n"
     ]
    }
   ],
   "source": [
    "# Having done that, use the print() function again, but this time print your first name.\n",
    "print(\"Manohar\")"
   ]
  },
  {
   "cell_type": "code",
   "execution_count": 6,
   "id": "23d9a73d",
   "metadata": {},
   "outputs": [
    {
     "ename": "NameError",
     "evalue": "name 'Manohar' is not defined",
     "output_type": "error",
     "traceback": [
      "\u001b[1;31m---------------------------------------------------------------------------\u001b[0m",
      "\u001b[1;31mNameError\u001b[0m                                 Traceback (most recent call last)",
      "Cell \u001b[1;32mIn[6], line 2\u001b[0m\n\u001b[0;32m      1\u001b[0m \u001b[38;5;66;03m# Remove the double quotes and run your code. Watch Python's reaction. What kind of error is thrown?\u001b[39;00m\n\u001b[1;32m----> 2\u001b[0m \u001b[38;5;28mprint\u001b[39m(\u001b[43mManohar\u001b[49m)\n",
      "\u001b[1;31mNameError\u001b[0m: name 'Manohar' is not defined"
     ]
    }
   ],
   "source": [
    "# Remove the double quotes and run your code. Watch Python's reaction. What kind of error is thrown?\n",
    "print(Manohar)"
   ]
  },
  {
   "cell_type": "code",
   "execution_count": 7,
   "id": "cb71a884",
   "metadata": {},
   "outputs": [
    {
     "ename": "SyntaxError",
     "evalue": "Missing parentheses in call to 'print'. Did you mean print(...)? (1280439324.py, line 2)",
     "output_type": "error",
     "traceback": [
      "\u001b[1;36m  Cell \u001b[1;32mIn[7], line 2\u001b[1;36m\u001b[0m\n\u001b[1;33m    print \"Manohar\"\u001b[0m\n\u001b[1;37m    ^\u001b[0m\n\u001b[1;31mSyntaxError\u001b[0m\u001b[1;31m:\u001b[0m Missing parentheses in call to 'print'. Did you mean print(...)?\n"
     ]
    }
   ],
   "source": [
    "# Then, remove the parentheses, put back the double quotes, and run your code again. What kind of error is thrown this time?\n",
    "print \"Manohar\""
   ]
  },
  {
   "cell_type": "code",
   "execution_count": 8,
   "id": "14a3c1ae",
   "metadata": {},
   "outputs": [
    {
     "name": "stdout",
     "output_type": "stream",
     "text": [
      "Manohar\n"
     ]
    }
   ],
   "source": [
    "#  Change double quotes to single quotes\n",
    "print('Manohar')"
   ]
  },
  {
   "cell_type": "code",
   "execution_count": 9,
   "id": "2ef53261",
   "metadata": {},
   "outputs": [
    {
     "ename": "SyntaxError",
     "evalue": "invalid syntax (1456597357.py, line 2)",
     "output_type": "error",
     "traceback": [
      "\u001b[1;36m  Cell \u001b[1;32mIn[9], line 2\u001b[1;36m\u001b[0m\n\u001b[1;33m    print(\"Manohar\") print(\"Pawale\") print(\"is\") print(\"Engineer\")\u001b[0m\n\u001b[1;37m                     ^\u001b[0m\n\u001b[1;31mSyntaxError\u001b[0m\u001b[1;31m:\u001b[0m invalid syntax\n"
     ]
    }
   ],
   "source": [
    "# use multiple print() functions on the same line\n",
    "print(\"Manohar\") print(\"Pawale\") print(\"is\") print(\"Engineer\")"
   ]
  },
  {
   "cell_type": "code",
   "execution_count": 10,
   "id": "aa50321d",
   "metadata": {},
   "outputs": [
    {
     "name": "stdout",
     "output_type": "stream",
     "text": [
      "Manohar\n",
      "Pawale\n",
      "is\n",
      "Engineer\n"
     ]
    }
   ],
   "source": [
    "# use multiple print() functions on different lines\n",
    "print(\"Manohar\")\n",
    "print(\"Pawale\")\n",
    "print(\"is\")\n",
    "print(\"Engineer\")"
   ]
  },
  {
   "cell_type": "markdown",
   "id": "066a4236",
   "metadata": {},
   "source": [
    "**Python escape and newline characters**"
   ]
  },
  {
   "cell_type": "code",
   "execution_count": 11,
   "id": "1c582533",
   "metadata": {},
   "outputs": [
    {
     "name": "stdout",
     "output_type": "stream",
     "text": [
      "The itsy bitsy spider\n",
      "climbed up the waterspout.\n",
      "\n",
      "Down came the rain\n",
      "and washed the spider out.\n"
     ]
    }
   ],
   "source": [
    "# Python escape and newline characters\n",
    "print(\"The itsy bitsy spider\\nclimbed up the waterspout.\")\n",
    "print()\n",
    "print(\"Down came the rain\\nand washed the spider out.\")"
   ]
  },
  {
   "cell_type": "markdown",
   "id": "96b0d85e",
   "metadata": {},
   "source": [
    "**Using multiple arguments**"
   ]
  },
  {
   "cell_type": "code",
   "execution_count": 12,
   "id": "9f10dd6e",
   "metadata": {},
   "outputs": [
    {
     "name": "stdout",
     "output_type": "stream",
     "text": [
      "The itsy bitsy spider climbed up the waterspout.\n"
     ]
    }
   ],
   "source": [
    "print(\"The itsy bitsy spider\" , \"climbed up\" , \"the waterspout.\")"
   ]
  },
  {
   "cell_type": "code",
   "execution_count": 13,
   "id": "4518ab43",
   "metadata": {},
   "outputs": [
    {
     "name": "stdout",
     "output_type": "stream",
     "text": [
      "My name is Python.\n",
      "Monty Python.\n"
     ]
    }
   ],
   "source": [
    "# Positional arguments\n",
    "\n",
    "print(\"My name is\", \"Python.\")\n",
    "print(\"Monty Python.\")"
   ]
  },
  {
   "cell_type": "code",
   "execution_count": 14,
   "id": "a403e2d2",
   "metadata": {},
   "outputs": [
    {
     "name": "stdout",
     "output_type": "stream",
     "text": [
      "My name is Python. Monty Python.\n"
     ]
    }
   ],
   "source": [
    "# Keyword arguments\n",
    "\n",
    "print(\"My name is\", \"Python.\", end=\" \")\n",
    "print(\"Monty Python.\")"
   ]
  },
  {
   "cell_type": "code",
   "execution_count": 15,
   "id": "a99d2b5b",
   "metadata": {},
   "outputs": [
    {
     "name": "stdout",
     "output_type": "stream",
     "text": [
      "My-name-is-Monty-Python.\n"
     ]
    }
   ],
   "source": [
    "print(\"My\", \"name\", \"is\", \"Monty\", \"Python.\", sep=\"-\")"
   ]
  },
  {
   "cell_type": "code",
   "execution_count": 16,
   "id": "82170c41",
   "metadata": {},
   "outputs": [
    {
     "name": "stdout",
     "output_type": "stream",
     "text": [
      "My_name_is*Monty*Python.*\n"
     ]
    }
   ],
   "source": [
    "print(\"My\", \"name\", \"is\", sep=\"_\", end=\"*\")\n",
    "print(\"Monty\", \"Python.\", sep=\"*\", end=\"*\\n\")"
   ]
  },
  {
   "cell_type": "markdown",
   "id": "5d2643c6",
   "metadata": {},
   "source": [
    "**Lab 2: The print() function and its arguments**"
   ]
  },
  {
   "cell_type": "markdown",
   "id": "d8799a27",
   "metadata": {},
   "source": [
    "**Scenario :** Modify the first line of code in the editor, using the sep and end keywords, to match the expected output. Use the two print() functions in the editor.\n",
    "\n",
    "Don't change anything in the second print() invocation.\n",
    "\n",
    "**Expected output :**"
   ]
  },
  {
   "cell_type": "raw",
   "id": "825ea784",
   "metadata": {},
   "source": [
    "Programming***Essentials***in...Python"
   ]
  },
  {
   "cell_type": "code",
   "execution_count": 17,
   "id": "aa72525f",
   "metadata": {},
   "outputs": [
    {
     "name": "stdout",
     "output_type": "stream",
     "text": [
      "Programming***Essentials***in...Python\n"
     ]
    }
   ],
   "source": [
    "print(\"Programming\",\"Essentials\",\"in\", sep=\"***\", end=\"...\")\n",
    "print(\"Python\")"
   ]
  },
  {
   "cell_type": "markdown",
   "id": "accc76e7",
   "metadata": {},
   "source": [
    "**Lab 3: Formatting the output**"
   ]
  },
  {
   "cell_type": "code",
   "execution_count": 18,
   "id": "2f66022f",
   "metadata": {},
   "outputs": [
    {
     "name": "stdout",
     "output_type": "stream",
     "text": [
      "    *\n",
      "   * *\n",
      "  *   *\n",
      " *     *\n",
      "***   ***\n",
      "  *   *\n",
      "  *   *\n",
      "  *****\n"
     ]
    }
   ],
   "source": [
    "# Raw Code\n",
    "\n",
    "print(\"    *\")\n",
    "print(\"   * *\")\n",
    "print(\"  *   *\")\n",
    "print(\" *     *\")\n",
    "print(\"***   ***\")\n",
    "print(\"  *   *\")\n",
    "print(\"  *   *\")\n",
    "print(\"  *****\")"
   ]
  },
  {
   "cell_type": "code",
   "execution_count": 19,
   "id": "ce356308",
   "metadata": {},
   "outputs": [
    {
     "name": "stdout",
     "output_type": "stream",
     "text": [
      "    *\n",
      "   * *\n",
      "  *   *\n",
      " *     *\n",
      "***   ***\n",
      "  *   *\n",
      "  *   *\n",
      "  *****\n"
     ]
    }
   ],
   "source": [
    "# minimize the number of print() function invocations by inserting the \\n sequence into the strings;\n",
    "\n",
    "print(\"    *\",\"   * *\",\"  *   *\",\" *     *\",\"***   ***\",\"  *   *\",\"  *   *\",\"  *****\",sep=\"\\n\")"
   ]
  },
  {
   "cell_type": "code",
   "execution_count": 20,
   "id": "88662759",
   "metadata": {},
   "outputs": [
    {
     "name": "stdout",
     "output_type": "stream",
     "text": [
      "    *\n",
      "\n",
      "   * *\n",
      "\n",
      "  *   *\n",
      "\n",
      " *     *\n",
      "\n",
      "***   ***\n",
      "\n",
      "  *   *\n",
      "\n",
      "  *   *\n",
      "\n",
      "  *****\n"
     ]
    }
   ],
   "source": [
    "# make the arrow twice as large (but keep the proportions)\n",
    "\n",
    "print(\"    *\",\"   * *\",\"  *   *\",\" *     *\",\"***   ***\",\"  *   *\",\"  *   *\",\"  *****\",sep=\"\\n\\n\")"
   ]
  },
  {
   "cell_type": "code",
   "execution_count": 21,
   "id": "7e332e69",
   "metadata": {},
   "outputs": [
    {
     "name": "stdout",
     "output_type": "stream",
     "text": [
      "    *          *      \n",
      "   * *        * *     \n",
      "  *   *      *   *    \n",
      " *     *    *     *   \n",
      "***   ***  ***   ***  \n",
      "  *   *      *   *    \n",
      "  *   *      *   *    \n",
      "  *****      *****    \n"
     ]
    }
   ],
   "source": [
    "# duplicate the arrow, placing both arrows side by side;\n",
    "# note: a string may be multiplied by using the following trick: \"string\" * 2 will produce \"stringstring\"\n",
    "\n",
    "\n",
    "print(\"    *      \"*2,\"   * *     \"*2,\"  *   *    \"*2,\n",
    "      \" *     *   \"*2,\"***   ***  \"*2,\"  *   *    \"*2,\n",
    "      \"  *   *    \"*2,\"  *****    \"*2,sep=\"\\n\")"
   ]
  },
  {
   "cell_type": "code",
   "execution_count": 22,
   "id": "ee5a1957",
   "metadata": {},
   "outputs": [
    {
     "ename": "SyntaxError",
     "evalue": "iterable argument unpacking follows keyword argument unpacking (731059077.py, line 6)",
     "output_type": "error",
     "traceback": [
      "\u001b[1;36m  Cell \u001b[1;32mIn[22], line 6\u001b[1;36m\u001b[0m\n\u001b[1;33m    print(\"    *\",\"   * *\",\"  *   *\", *     *\",\"***   ***\",\"  *   *\",\"  *   *\",\"  *****\",sep=\"\\n\")\u001b[0m\n\u001b[1;37m          ^\u001b[0m\n\u001b[1;31mSyntaxError\u001b[0m\u001b[1;31m:\u001b[0m iterable argument unpacking follows keyword argument unpacking\n"
     ]
    }
   ],
   "source": [
    "# remove any of the quotes, and look carefully at Python's response; \n",
    "# pay attention to where Python sees an error ‒ is this the place where the error really exists?\n",
    "# do the same with some of the parentheses;\n",
    "\n",
    "\n",
    "print(\"    *\",\"   * *\",\"  *   *\", *     *\",\"***   ***\",\"  *   *\",\"  *   *\",\"  *****\",sep=\"\\n\")"
   ]
  },
  {
   "cell_type": "code",
   "execution_count": 23,
   "id": "7eff7f3c",
   "metadata": {},
   "outputs": [
    {
     "ename": "SyntaxError",
     "evalue": "incomplete input (579815815.py, line 1)",
     "output_type": "error",
     "traceback": [
      "\u001b[1;36m  Cell \u001b[1;32mIn[23], line 1\u001b[1;36m\u001b[0m\n\u001b[1;33m    print(\"    *\",\"   * *\",\"  *   *\",\" *     *\",\"***   ***\",\"  *   *\",\"  *   *\",\"  *****\",sep=\"\\n\"\u001b[0m\n\u001b[1;37m                                                                                                  ^\u001b[0m\n\u001b[1;31mSyntaxError\u001b[0m\u001b[1;31m:\u001b[0m incomplete input\n"
     ]
    }
   ],
   "source": [
    "print(\"    *\",\"   * *\",\"  *   *\",\" *     *\",\"***   ***\",\"  *   *\",\"  *   *\",\"  *****\",sep=\"\\n\""
   ]
  },
  {
   "cell_type": "code",
   "execution_count": 24,
   "id": "af61c69a",
   "metadata": {},
   "outputs": [
    {
     "ename": "NameError",
     "evalue": "name 'Print' is not defined",
     "output_type": "error",
     "traceback": [
      "\u001b[1;31m---------------------------------------------------------------------------\u001b[0m",
      "\u001b[1;31mNameError\u001b[0m                                 Traceback (most recent call last)",
      "Cell \u001b[1;32mIn[24], line 3\u001b[0m\n\u001b[0;32m      1\u001b[0m \u001b[38;5;66;03m# change any of the print words into something else, differing only in case (e.g., Print) ‒ what happens now?\u001b[39;00m\n\u001b[1;32m----> 3\u001b[0m \u001b[43mPrint\u001b[49m(\u001b[38;5;124m\"\u001b[39m\u001b[38;5;124m    *\u001b[39m\u001b[38;5;124m\"\u001b[39m,\u001b[38;5;124m\"\u001b[39m\u001b[38;5;124m   * *\u001b[39m\u001b[38;5;124m\"\u001b[39m,\u001b[38;5;124m\"\u001b[39m\u001b[38;5;124m  *   *\u001b[39m\u001b[38;5;124m\"\u001b[39m,\u001b[38;5;124m\"\u001b[39m\u001b[38;5;124m *     *\u001b[39m\u001b[38;5;124m\"\u001b[39m,\u001b[38;5;124m\"\u001b[39m\u001b[38;5;124m***   ***\u001b[39m\u001b[38;5;124m\"\u001b[39m,\u001b[38;5;124m\"\u001b[39m\u001b[38;5;124m  *   *\u001b[39m\u001b[38;5;124m\"\u001b[39m,\u001b[38;5;124m\"\u001b[39m\u001b[38;5;124m  *   *\u001b[39m\u001b[38;5;124m\"\u001b[39m,\u001b[38;5;124m\"\u001b[39m\u001b[38;5;124m  *****\u001b[39m\u001b[38;5;124m\"\u001b[39m,sep\u001b[38;5;241m=\u001b[39m\u001b[38;5;124m\"\u001b[39m\u001b[38;5;130;01m\\n\u001b[39;00m\u001b[38;5;124m\"\u001b[39m)\n",
      "\u001b[1;31mNameError\u001b[0m: name 'Print' is not defined"
     ]
    }
   ],
   "source": [
    "# change any of the print words into something else, differing only in case (e.g., Print) ‒ what happens now?\n",
    "\n",
    "Print(\"    *\",\"   * *\",\"  *   *\",\" *     *\",\"***   ***\",\"  *   *\",\"  *   *\",\"  *****\",sep=\"\\n\")"
   ]
  },
  {
   "cell_type": "code",
   "execution_count": 25,
   "id": "45b18798",
   "metadata": {},
   "outputs": [
    {
     "name": "stdout",
     "output_type": "stream",
     "text": [
      "    *\n",
      "   * *\n",
      "  *   *\n",
      " *     *\n",
      "***   ***\n",
      "  *   *\n",
      "  *   *\n",
      "  *****\n"
     ]
    }
   ],
   "source": [
    "# replace some of the quotes with apostrophes; watch what happens carefully.\n",
    "\n",
    "print(\"    *\",'   * *',\"  *   *\",\" *     *\",\"***   ***\",'  *   *',\"  *   *\",\"  *****\",sep=\"\\n\")"
   ]
  }
 ],
 "metadata": {
  "kernelspec": {
   "display_name": "Python 3 (ipykernel)",
   "language": "python",
   "name": "python3"
  },
  "language_info": {
   "codemirror_mode": {
    "name": "ipython",
    "version": 3
   },
   "file_extension": ".py",
   "mimetype": "text/x-python",
   "name": "python",
   "nbconvert_exporter": "python",
   "pygments_lexer": "ipython3",
   "version": "3.10.9"
  }
 },
 "nbformat": 4,
 "nbformat_minor": 5
}
